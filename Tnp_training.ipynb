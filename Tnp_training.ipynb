{
  "cells": [
    {
      "cell_type": "markdown",
      "metadata": {
        "id": "view-in-github",
        "colab_type": "text"
      },
      "source": [
        "<a href=\"https://colab.research.google.com/github/Kp019/Python-Learning-projects/blob/projects/Tnp_training.ipynb\" target=\"_parent\"><img src=\"https://colab.research.google.com/assets/colab-badge.svg\" alt=\"Open In Colab\"/></a>"
      ]
    },
    {
      "cell_type": "code",
      "source": [
        "a = [1, 2, 3, 4, 5]\n",
        "sum = 0\n",
        "for ele in a:\n",
        "   sum += ele \n",
        "print(sum)"
      ],
      "metadata": {
        "colab": {
          "base_uri": "https://localhost:8080/"
        },
        "id": "jriWq1QvCg4a",
        "outputId": "839f9a8b-5c3b-4458-828c-71baee51d8ef"
      },
      "execution_count": 1,
      "outputs": [
        {
          "output_type": "stream",
          "name": "stdout",
          "text": [
            "15\n"
          ]
        }
      ]
    },
    {
      "cell_type": "code",
      "source": [
        "a = int(input(\"number\"))\n",
        "sum = 0\n",
        "for i in range(a):\n",
        "  n = int(input('num'))\n",
        "  sum = sum+n\n",
        "print(sum)"
      ],
      "metadata": {
        "id": "VxAhp54DKBR_",
        "outputId": "7b80c018-1b82-4a7e-b043-f928846a1210",
        "colab": {
          "base_uri": "https://localhost:8080/"
        }
      },
      "execution_count": null,
      "outputs": [
        {
          "output_type": "stream",
          "name": "stdout",
          "text": [
            "number5\n",
            "num1\n",
            "num2\n",
            "num3\n",
            "num4\n",
            "num5\n",
            "15\n"
          ]
        }
      ]
    },
    {
      "cell_type": "code",
      "source": [
        "a = int(input(\"number\"))\n",
        "sum = 1\n",
        "for i in range(a):\n",
        "  n = int(input('num'))\n",
        "  sum = sum*n\n",
        "print(sum)"
      ],
      "metadata": {
        "id": "tcAG7JuDKl6b"
      },
      "execution_count": null,
      "outputs": []
    },
    {
      "cell_type": "code",
      "source": [
        "r = int(input(\"radius\"))\n",
        "pi = 3.14\n",
        "area = pi*r**2\n",
        "print(area)\n",
        "circum = 2*pi*r\n",
        "print(circum)"
      ],
      "metadata": {
        "id": "zcGnFUeOKrQz",
        "outputId": "d887ec96-ad7c-43a9-bb03-0e4881c81e9a",
        "colab": {
          "base_uri": "https://localhost:8080/"
        }
      },
      "execution_count": null,
      "outputs": [
        {
          "output_type": "stream",
          "name": "stdout",
          "text": [
            "radius5\n",
            "78.5\n"
          ]
        }
      ]
    },
    {
      "cell_type": "code",
      "source": [
        "a  = int(input(\"1st num:\"))\n",
        "if a%5 == 0:\n",
        "  print(\"multiple of 5\")\n",
        "else:\n",
        "  print(\"not a multipel\") "
      ],
      "metadata": {
        "id": "bfbSTVJELGe6",
        "outputId": "e48634a6-7b8b-4d19-b3cf-bd6ed4101dd4",
        "colab": {
          "base_uri": "https://localhost:8080/"
        }
      },
      "execution_count": null,
      "outputs": [
        {
          "output_type": "stream",
          "name": "stdout",
          "text": [
            "1st num:10\n",
            "multiple of 5\n"
          ]
        }
      ]
    },
    {
      "cell_type": "code",
      "source": [
        "a  = int(input(\"1st num:\"))\n",
        "if a%5 == 0 and a%7==0:\n",
        "  print(\"multiple of 5&7\")\n",
        "else:\n",
        "  print(\"not a multipel\") "
      ],
      "metadata": {
        "id": "rbRW3C4cLYBy",
        "outputId": "ba5573dc-139d-427b-c462-15737b32f281",
        "colab": {
          "base_uri": "https://localhost:8080/"
        }
      },
      "execution_count": null,
      "outputs": [
        {
          "output_type": "stream",
          "name": "stdout",
          "text": [
            "1st num:35\n",
            "multiple of 5&7\n"
          ]
        }
      ]
    },
    {
      "cell_type": "code",
      "source": [
        "a = int(input(\"number\"))\n",
        "b = a\n",
        "sum = 0\n",
        "while a > 0:\n",
        "  n = int(input('num'))\n",
        "  sum = sum+n\n",
        "  avg = sum/b\n",
        "  a = a-1\n",
        "print(avg)"
      ],
      "metadata": {
        "id": "t-Z3Am85Lir6",
        "outputId": "d0897810-605b-41d6-dbb5-221b0a357847",
        "colab": {
          "base_uri": "https://localhost:8080/"
        }
      },
      "execution_count": null,
      "outputs": [
        {
          "output_type": "stream",
          "name": "stdout",
          "text": [
            "number4\n",
            "num1\n",
            "num2\n",
            "num3\n",
            "num4\n",
            "2.5\n"
          ]
        }
      ]
    },
    {
      "cell_type": "code",
      "source": [
        "num = 1234\n",
        "reversed_num = 0\n",
        "\n",
        "while num != 0:\n",
        "    digit = num % 10\n",
        "    reversed_num = reversed_num * 10 + digit\n",
        "    num //= 10\n",
        "\n",
        "print(\"Reversed Number: \" + str(reversed_num))"
      ],
      "metadata": {
        "id": "bF-6U8kxMI5p",
        "outputId": "0325625a-1d77-4dbd-8392-79604a362276",
        "colab": {
          "base_uri": "https://localhost:8080/"
        }
      },
      "execution_count": null,
      "outputs": [
        {
          "output_type": "stream",
          "name": "stdout",
          "text": [
            "Reversed Number: 4321\n"
          ]
        }
      ]
    },
    {
      "cell_type": "code",
      "source": [
        "for i in range(10,50,1):\n",
        "  a = i\n",
        "  if i%3 == 0:\n",
        "    print(a)"
      ],
      "metadata": {
        "id": "hLx1EjoGNPxf",
        "outputId": "52f6efe7-0aa3-403e-f653-3b2cd467c60a",
        "colab": {
          "base_uri": "https://localhost:8080/"
        }
      },
      "execution_count": null,
      "outputs": [
        {
          "output_type": "stream",
          "name": "stdout",
          "text": [
            "12\n",
            "15\n",
            "18\n",
            "21\n",
            "24\n",
            "27\n",
            "30\n",
            "33\n",
            "36\n",
            "39\n",
            "42\n",
            "45\n",
            "48\n"
          ]
        }
      ]
    },
    {
      "cell_type": "code",
      "source": [
        "a = 5\n",
        "b = a\n",
        "n = []\n",
        "sum = 0\n",
        "while a > 0:\n",
        "  p = int(input('num'))\n",
        "  n.append(p)\n",
        "  a -=1\n",
        "n.sort()\n",
        "print(n[-1])"
      ],
      "metadata": {
        "id": "a5FWiJ5rN5_A",
        "outputId": "aa142682-b016-44d2-abb4-0de7f52a5af9",
        "colab": {
          "base_uri": "https://localhost:8080/"
        }
      },
      "execution_count": null,
      "outputs": [
        {
          "output_type": "stream",
          "name": "stdout",
          "text": [
            "num1\n",
            "num5\n",
            "num2\n",
            "num3\n",
            "num2\n",
            "5\n"
          ]
        }
      ]
    },
    {
      "cell_type": "code",
      "source": [
        "def getSum(n):\n",
        "    sum = 0\n",
        "    for digit in str(n): \n",
        "      sum += int(digit)\n",
        "    if(sum%2 ==0):\n",
        "      print(n,\"is even\")      \n",
        "   \n",
        "for i in range(100,151,1):\n",
        "  getSum(i)"
      ],
      "metadata": {
        "id": "PVFBK6I2j0OY",
        "outputId": "37ec78fd-3437-4978-f36b-9c0218e92dab",
        "colab": {
          "base_uri": "https://localhost:8080/"
        }
      },
      "execution_count": null,
      "outputs": [
        {
          "output_type": "stream",
          "name": "stdout",
          "text": [
            "101 is even\n",
            "103 is even\n",
            "105 is even\n",
            "107 is even\n",
            "109 is even\n",
            "110 is even\n",
            "112 is even\n",
            "114 is even\n",
            "116 is even\n",
            "118 is even\n",
            "121 is even\n",
            "123 is even\n",
            "125 is even\n",
            "127 is even\n",
            "129 is even\n",
            "130 is even\n",
            "132 is even\n",
            "134 is even\n",
            "136 is even\n",
            "138 is even\n",
            "141 is even\n",
            "143 is even\n",
            "145 is even\n",
            "147 is even\n",
            "149 is even\n",
            "150 is even\n"
          ]
        }
      ]
    },
    {
      "cell_type": "code",
      "source": [
        "#largest number in array without inbuilt fn.\n",
        "n=[]\n",
        "a = int(input())\n",
        "while a > 0:\n",
        "  p = int(input('num'))\n",
        "  n.append(p)\n",
        "  a -=1\n",
        "\n",
        "max1=n[0]\n",
        "for i in range(1,len(n)):\n",
        "    if(n[i]>max1):\n",
        "        max1=n[i]\n",
        "print(max1)"
      ],
      "metadata": {
        "id": "ZSGxMoYplMCc",
        "outputId": "db86f17f-e5b9-4c55-f963-6062b617d73f",
        "colab": {
          "base_uri": "https://localhost:8080/"
        }
      },
      "execution_count": null,
      "outputs": [
        {
          "output_type": "stream",
          "name": "stdout",
          "text": [
            "5\n",
            "num1\n",
            "num5\n",
            "num2\n",
            "num4\n",
            "num3\n",
            "5\n"
          ]
        }
      ]
    },
    {
      "cell_type": "code",
      "source": [
        "#. Write a Python program to find the smallest number in an array without using built-in functions.\n",
        "n=[]\n",
        "a = int(input())\n",
        "while a > 0:\n",
        "  p = int(input('num'))\n",
        "  n.append(p)\n",
        "  a -=1\n",
        "\n",
        "max1=n[0]\n",
        "for i in range(1,len(n)):\n",
        "    if(n[i]<max1):\n",
        "        max1=n[i]\n",
        "print(max1)"
      ],
      "metadata": {
        "id": "b2txQSbLoJBA",
        "outputId": "560cc308-ad44-44d9-e48d-76a2cb6d5161",
        "colab": {
          "base_uri": "https://localhost:8080/"
        }
      },
      "execution_count": null,
      "outputs": [
        {
          "output_type": "stream",
          "name": "stdout",
          "text": [
            "3\n",
            "num5\n",
            "num1\n",
            "num2\n",
            "1\n"
          ]
        }
      ]
    },
    {
      "cell_type": "code",
      "source": [
        "\n",
        "def inp(): \n",
        "  R = int(input(\"Enter the number of rows:\"))\n",
        "  C = int(input(\"Enter the number of columns:\"))\n",
        "\n",
        "  matrix = []\n",
        "  print(\"Enter the entries rowwise:\")\n",
        "  for i in range(R):        \n",
        "      a =[]\n",
        "      for j in range(C):    \n",
        "        a.append(int(input()))\n",
        "      matrix.append(a)\n",
        "  return matrix\n",
        "\n",
        "sum = [[0,0],\n",
        "        [0,0]]\n",
        "\n",
        "a = inp()\n",
        "b = inp()\n",
        "sum = [[a[i][j] + b[i][j]  for j in range\n",
        "(len(a[0]))] for i in range(len(a))]\n",
        "print(sum)"
      ],
      "metadata": {
        "id": "fMyLC-5ioVMY",
        "outputId": "a69174ec-c268-4e55-d43e-330a997b58db",
        "colab": {
          "base_uri": "https://localhost:8080/"
        }
      },
      "execution_count": null,
      "outputs": [
        {
          "output_type": "stream",
          "name": "stdout",
          "text": [
            "Enter the number of rows:2\n",
            "Enter the number of columns:2\n",
            "Enter the entries rowwise:\n",
            "1\n",
            "2\n",
            "3\n",
            "4\n",
            "Enter the number of rows:2\n",
            "Enter the number of columns:2\n",
            "Enter the entries rowwise:\n",
            "1\n",
            "2\n",
            "3\n",
            "4\n",
            "[[2, 4], [6, 8]]\n"
          ]
        }
      ]
    },
    {
      "cell_type": "code",
      "source": [
        "# Write a Python program to implement a calculator to do basic mathematical operations. \n",
        "# Create separate functions for each mathematical operation. Read two numbers from the user \n",
        "# and a character/number for the operation. Based on what operation the user wants to do, \n",
        "# call the corresponding function and print the result.\n",
        "# For example, if the user enters 23 and 42 as numbers and * as the character, then multiply \n",
        "# both the numbers and print the product of the two numbers.\n",
        "\n",
        "a = int(input())\n",
        "b = int(input())\n",
        "c = str(input())\n",
        "ans = 0\n",
        "if c=='+':\n",
        "  ans = a+b\n",
        "elif c=='-':\n",
        "  ans = a-b\n",
        "elif c=='/':\n",
        "  ans = a/b\n",
        "elif c == '*':\n",
        "  ans = a*b\n",
        "print(ans)  "
      ],
      "metadata": {
        "id": "sAn7pkYismoO",
        "outputId": "0de21947-ce81-4090-f954-e0b49a4ae35a",
        "colab": {
          "base_uri": "https://localhost:8080/"
        }
      },
      "execution_count": null,
      "outputs": [
        {
          "output_type": "stream",
          "name": "stdout",
          "text": [
            "5\n",
            "4\n",
            "*\n",
            "20\n"
          ]
        }
      ]
    },
    {
      "cell_type": "code",
      "source": [
        "# Write a program to Calculate BMI Using Python. The user enters his height and weight. \n",
        "# The variables passed by the user are assigned to the float type. After calculating the BMI value, \n",
        "# the value will be assigned to the appropriate range and the correct message will appear on the console. \n",
        "# You can use the if-else-if ladder for printing the message on the console. \n",
        "# Intervals of BMI index:\n",
        "#   •\t16.00 or less = starvation\n",
        "#   •\t16.00-16.99 = emaciation\n",
        "#   •\t17.00-18.49 = underweight\n",
        "#   •\t18.50-22.99 = normal, low range\n",
        "#   •\t23.00-24.99 = normal high range\n",
        "#   •\t25.00-27.49 = overweight low range\n",
        "#   •\t27.50-29.99 = overweight high range\n",
        "#   •\t30.00-34.99 = 1st degree obesity\n",
        "#   •\t35.00-39.99 = 2nd degree obesity\n",
        "#   •\t40.00 or above = 3rd degree obesity\n",
        "\n",
        "# h - inch\n",
        "# w - pound\n",
        "\n",
        "w = float(input(\"weight\"))\n",
        "h = float(input(\"height\"))\n",
        "bmi = w/(h**2) * 10000\n",
        "print(bmi)\n",
        "if(bmi <= 16):\n",
        "  print(\"starvation\")\n",
        "elif(bmi>16 and bmi<16.99):\n",
        "  print(\"emaciation\")  \n",
        "elif(bmi>17 and bmi<18.49):\n",
        "  print(\"underweight\")\n",
        "\n",
        "elif(bmi>18.50 and bmi<22.99):\n",
        "  print(\"normal, low range\")\n",
        "  \n",
        "elif(bmi>23 and bmi<24.99):\n",
        "  print(\"normal high range\")\n",
        "elif(bmi>25 and bmi<27.49):\n",
        "  print(\"overweight low range\")\n",
        "elif(bmi>27.5 and bmi<29.99):\n",
        "  print(\"overweight high range\")\n",
        "elif(bmi>30 and bmi<34.99):\n",
        "  print(\"1st degree obesity\")\n",
        "elif(bmi>35 and bmi<39.99):\n",
        "  print(\"2nd degree obesity\")\n",
        "elif(bmi>=40):\n",
        "  print(\"3rd degree obesity\")"
      ],
      "metadata": {
        "id": "22s7WoRdtzMK",
        "outputId": "e07d2d28-bf34-40e4-d919-75a86a67b0f0",
        "colab": {
          "base_uri": "https://localhost:8080/"
        }
      },
      "execution_count": null,
      "outputs": [
        {
          "output_type": "stream",
          "name": "stdout",
          "text": [
            "weight48\n",
            "height162\n",
            "18.289894833104707\n",
            "underweight\n"
          ]
        }
      ]
    },
    {
      "cell_type": "code",
      "source": [
        "# Write a program that follows the rules of object-oriented programming and will calculate the area of the rectangle. \n",
        "# You need to create two classes, one RectangleArea for the logic of your program and the Main class. In the Main class, \n",
        "# we create the RectangleArea object and call three methods on it. The methods you should create are: \n",
        "# •\tgetData() - gets side lengths \n",
        "# •\tcomputeField() - performs the calculations\n",
        "# •\tfieldDisplay() - displays info and result.\n",
        "\n",
        "\n",
        "# For all the questions, read the input values from the console using Scanner. Print the output on the console.\n",
        "\n",
        "class area:\n",
        "  def getData():\n",
        "    l = int(input(\"length = \"))\n",
        "    b = int(input(\"bredth = \")) \n",
        "    return l,b\n",
        "  def computeField(l,b):\n",
        "    a = l*b\n",
        "    return a\n",
        "  def fieldDisplay(l,b,a):\n",
        "    print(\"lenth = \",l)\n",
        "    print(\"bredth = \",b)\n",
        "    print(\"area = \",a) \n",
        "\n",
        "class main():\n",
        "  l,b = area.getData()\n",
        "  a = area.computeField(l,b)\n",
        "  area.fieldDisplay(l,b,a)\n",
        "\n",
        "if __name__ == \"__main__\":\n",
        "    main()"
      ],
      "metadata": {
        "id": "Hr5Qjxm618kk",
        "outputId": "cb9e06ee-7858-4756-a982-7b19d1c43c08",
        "colab": {
          "base_uri": "https://localhost:8080/"
        }
      },
      "execution_count": null,
      "outputs": [
        {
          "output_type": "stream",
          "name": "stdout",
          "text": [
            "length = 5\n",
            "bredth = 2\n",
            "lenth =  5\n",
            "bredth =  2\n",
            "area =  10\n"
          ]
        }
      ]
    },
    {
      "cell_type": "code",
      "source": [
        "# Write a program that creates a two-dimensional array with dimensions of 10×10 and named matrix. \n",
        "# On the diagonal of this matrix, put the numbers from 0 to 9 and the number 0 everywhere else. \n",
        "# Additionally, the program should calculate the sum of the elements on the diagonal.\n",
        "\n",
        "def solve(matrix):\n",
        "   m = len(matrix)\n",
        "   if m == 1: \n",
        "     return matrix[0][0]\n",
        "\n",
        "   count = 0\n",
        "   for i in range(m):\n",
        "      count += matrix[i][i]\n",
        "   return count\n",
        "\n",
        "matrix = [[0 for x in range(10)] for y in range(10)]\n",
        "for i in range(10):\n",
        "    for j in range(10):\n",
        "        if i == j:\n",
        "            matrix[i][j] = i\n",
        "for row in matrix:\n",
        "    print(row)\n",
        "print(solve(matrix))"
      ],
      "metadata": {
        "id": "h6D4an-c3pwh",
        "outputId": "40fcdf18-56bc-49f7-dfb9-d5ba4e92a414",
        "colab": {
          "base_uri": "https://localhost:8080/"
        }
      },
      "execution_count": null,
      "outputs": [
        {
          "output_type": "stream",
          "name": "stdout",
          "text": [
            "[0, 0, 0, 0, 0, 0, 0, 0, 0, 0]\n",
            "[0, 1, 0, 0, 0, 0, 0, 0, 0, 0]\n",
            "[0, 0, 2, 0, 0, 0, 0, 0, 0, 0]\n",
            "[0, 0, 0, 3, 0, 0, 0, 0, 0, 0]\n",
            "[0, 0, 0, 0, 4, 0, 0, 0, 0, 0]\n",
            "[0, 0, 0, 0, 0, 5, 0, 0, 0, 0]\n",
            "[0, 0, 0, 0, 0, 0, 6, 0, 0, 0]\n",
            "[0, 0, 0, 0, 0, 0, 0, 7, 0, 0]\n",
            "[0, 0, 0, 0, 0, 0, 0, 0, 8, 0]\n",
            "[0, 0, 0, 0, 0, 0, 0, 0, 0, 9]\n",
            "45\n"
          ]
        }
      ]
    }
  ],
  "metadata": {
    "colab": {
      "toc_visible": true,
      "provenance": [],
      "include_colab_link": true
    },
    "kernelspec": {
      "display_name": "Python 3",
      "name": "python3"
    }
  },
  "nbformat": 4,
  "nbformat_minor": 0
}